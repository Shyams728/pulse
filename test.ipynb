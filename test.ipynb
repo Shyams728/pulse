{
 "cells": [
  {
   "cell_type": "code",
   "execution_count": 5,
   "metadata": {},
   "outputs": [
    {
     "name": "stdout",
     "output_type": "stream",
     "text": [
      "Collecting pyngrok\n",
      "  Downloading pyngrok-7.0.5-py3-none-any.whl.metadata (6.2 kB)\n",
      "Requirement already satisfied: PyYAML in ./.venv/lib/python3.11/site-packages (from pyngrok) (6.0.1)\n",
      "Downloading pyngrok-7.0.5-py3-none-any.whl (21 kB)\n",
      "Installing collected packages: pyngrok\n",
      "Successfully installed pyngrok-7.0.5\n"
     ]
    }
   ],
   "source": [
    "!pip install pyngrok"
   ]
  },
  {
   "cell_type": "code",
   "execution_count": 1,
   "metadata": {},
   "outputs": [
    {
     "name": "stdout",
     "output_type": "stream",
     "text": [
      "Authtoken saved to configuration file: /home/user/.config/ngrok/ngrok.yml\n"
     ]
    },
    {
     "name": "stdout",
     "output_type": "stream",
     "text": [
      "Streamlit app can be accessed at: https://43b3-35-233-128-154.ngrok-free.app\n"
     ]
    },
    {
     "name": "stdout",
     "output_type": "stream",
     "text": [
      "\n",
      "Collecting usage statistics. To deactivate, set browser.gatherUsageStats to False.\n",
      "\n",
      "\n",
      "  You can now view your Streamlit app in your browser.\n",
      "\n",
      "  Network URL: http://172.17.0.4:8505\n",
      "  External URL: http://35.233.128.154:8505\n",
      "\n"
     ]
    }
   ],
   "source": [
    "from pyngrok import ngrok\n",
    "!ngrok authtoken 2ZjwOwRMWe1xdOQuhwti9eQTXBA_45bBvrKJqeZy7foGQgYWA\n",
    "# Step 13: Start Streamlit in the background\n",
    "get_ipython().system_raw('nohup streamlit run project/Main.py &')\n",
    "# Use ngrok to create a public URL for the Streamlit app\n",
    "ngrok_tunnel_streamlit = ngrok.connect(addr=\"8501\", proto=\"http\", bind_tls=True)\n",
    "# Print the public URL for Streamlit app\n",
    "print(\"Streamlit app can be accessed at:\", ngrok_tunnel_streamlit.public_url)"
   ]
  },
  {
   "cell_type": "code",
   "execution_count": 2,
   "metadata": {},
   "outputs": [],
   "source": [
    "!pkill ngork"
   ]
  },
  {
   "cell_type": "code",
   "execution_count": 3,
   "metadata": {},
   "outputs": [],
   "source": [
    "from sqlalchemy import create_engine\n",
    "import pandas as pd\n",
    "sqlite_file = 'project/test.sqlite'\n",
    "engine = create_engine(f'sqlite:///{sqlite_file}')\n",
    "\n",
    "  "
   ]
  },
  {
   "cell_type": "code",
   "execution_count": 23,
   "metadata": {},
   "outputs": [
    {
     "data": {
      "text/html": [
       "<div>\n",
       "<style scoped>\n",
       "    .dataframe tbody tr th:only-of-type {\n",
       "        vertical-align: middle;\n",
       "    }\n",
       "\n",
       "    .dataframe tbody tr th {\n",
       "        vertical-align: top;\n",
       "    }\n",
       "\n",
       "    .dataframe thead th {\n",
       "        text-align: right;\n",
       "    }\n",
       "</style>\n",
       "<table border=\"1\" class=\"dataframe\">\n",
       "  <thead>\n",
       "    <tr style=\"text-align: right;\">\n",
       "      <th></th>\n",
       "      <th>state</th>\n",
       "      <th>year</th>\n",
       "      <th>quarter</th>\n",
       "      <th>type_of_transaction</th>\n",
       "      <th>number_of_transactions</th>\n",
       "      <th>total_amount</th>\n",
       "    </tr>\n",
       "  </thead>\n",
       "  <tbody>\n",
       "    <tr>\n",
       "      <th>0</th>\n",
       "      <td>chandigarh</td>\n",
       "      <td>2018</td>\n",
       "      <td>1</td>\n",
       "      <td>Recharge &amp; bill payments</td>\n",
       "      <td>201262</td>\n",
       "      <td>4.747958e+07</td>\n",
       "    </tr>\n",
       "    <tr>\n",
       "      <th>1</th>\n",
       "      <td>chandigarh</td>\n",
       "      <td>2018</td>\n",
       "      <td>1</td>\n",
       "      <td>Peer-to-peer payments</td>\n",
       "      <td>135136</td>\n",
       "      <td>5.279988e+08</td>\n",
       "    </tr>\n",
       "    <tr>\n",
       "      <th>2</th>\n",
       "      <td>chandigarh</td>\n",
       "      <td>2018</td>\n",
       "      <td>1</td>\n",
       "      <td>Merchant payments</td>\n",
       "      <td>21431</td>\n",
       "      <td>1.947707e+07</td>\n",
       "    </tr>\n",
       "    <tr>\n",
       "      <th>3</th>\n",
       "      <td>chandigarh</td>\n",
       "      <td>2018</td>\n",
       "      <td>1</td>\n",
       "      <td>Financial Services</td>\n",
       "      <td>8473</td>\n",
       "      <td>1.865618e+06</td>\n",
       "    </tr>\n",
       "    <tr>\n",
       "      <th>4</th>\n",
       "      <td>chandigarh</td>\n",
       "      <td>2018</td>\n",
       "      <td>1</td>\n",
       "      <td>Others</td>\n",
       "      <td>15593</td>\n",
       "      <td>1.661431e+07</td>\n",
       "    </tr>\n",
       "    <tr>\n",
       "      <th>...</th>\n",
       "      <td>...</td>\n",
       "      <td>...</td>\n",
       "      <td>...</td>\n",
       "      <td>...</td>\n",
       "      <td>...</td>\n",
       "      <td>...</td>\n",
       "    </tr>\n",
       "    <tr>\n",
       "      <th>3589</th>\n",
       "      <td>himachal-pradesh</td>\n",
       "      <td>2022</td>\n",
       "      <td>4</td>\n",
       "      <td>Merchant payments</td>\n",
       "      <td>15297492</td>\n",
       "      <td>1.028030e+10</td>\n",
       "    </tr>\n",
       "    <tr>\n",
       "      <th>3590</th>\n",
       "      <td>himachal-pradesh</td>\n",
       "      <td>2022</td>\n",
       "      <td>4</td>\n",
       "      <td>Peer-to-peer payments</td>\n",
       "      <td>9284824</td>\n",
       "      <td>2.962935e+10</td>\n",
       "    </tr>\n",
       "    <tr>\n",
       "      <th>3591</th>\n",
       "      <td>himachal-pradesh</td>\n",
       "      <td>2022</td>\n",
       "      <td>4</td>\n",
       "      <td>Recharge &amp; bill payments</td>\n",
       "      <td>3907023</td>\n",
       "      <td>1.810539e+09</td>\n",
       "    </tr>\n",
       "    <tr>\n",
       "      <th>3592</th>\n",
       "      <td>himachal-pradesh</td>\n",
       "      <td>2022</td>\n",
       "      <td>4</td>\n",
       "      <td>Financial Services</td>\n",
       "      <td>24342</td>\n",
       "      <td>3.177534e+07</td>\n",
       "    </tr>\n",
       "    <tr>\n",
       "      <th>3593</th>\n",
       "      <td>himachal-pradesh</td>\n",
       "      <td>2022</td>\n",
       "      <td>4</td>\n",
       "      <td>Others</td>\n",
       "      <td>41455</td>\n",
       "      <td>2.738739e+07</td>\n",
       "    </tr>\n",
       "  </tbody>\n",
       "</table>\n",
       "<p>3594 rows × 6 columns</p>\n",
       "</div>"
      ],
      "text/plain": [
       "                 state  year  quarter       type_of_transaction  \\\n",
       "0           chandigarh  2018        1  Recharge & bill payments   \n",
       "1           chandigarh  2018        1     Peer-to-peer payments   \n",
       "2           chandigarh  2018        1         Merchant payments   \n",
       "3           chandigarh  2018        1        Financial Services   \n",
       "4           chandigarh  2018        1                    Others   \n",
       "...                ...   ...      ...                       ...   \n",
       "3589  himachal-pradesh  2022        4         Merchant payments   \n",
       "3590  himachal-pradesh  2022        4     Peer-to-peer payments   \n",
       "3591  himachal-pradesh  2022        4  Recharge & bill payments   \n",
       "3592  himachal-pradesh  2022        4        Financial Services   \n",
       "3593  himachal-pradesh  2022        4                    Others   \n",
       "\n",
       "      number_of_transactions  total_amount  \n",
       "0                     201262  4.747958e+07  \n",
       "1                     135136  5.279988e+08  \n",
       "2                      21431  1.947707e+07  \n",
       "3                       8473  1.865618e+06  \n",
       "4                      15593  1.661431e+07  \n",
       "...                      ...           ...  \n",
       "3589                15297492  1.028030e+10  \n",
       "3590                 9284824  2.962935e+10  \n",
       "3591                 3907023  1.810539e+09  \n",
       "3592                   24342  3.177534e+07  \n",
       "3593                   41455  2.738739e+07  \n",
       "\n",
       "[3594 rows x 6 columns]"
      ]
     },
     "execution_count": 23,
     "metadata": {},
     "output_type": "execute_result"
    }
   ],
   "source": [
    "query = 'SELECT * FROM aggregated_transaction_state;'\n",
    "df = pd.read_sql(query, engine)\n",
    "df"
   ]
  },
  {
   "cell_type": "code",
   "execution_count": 17,
   "metadata": {},
   "outputs": [],
   "source": [
    "cursor.execute(\"ALTER TABLE aggregated_insurence_country RENAME COLUMN 'name' TO type_of_transaction;\")\n",
    "conn.commit()"
   ]
  },
  {
   "cell_type": "code",
   "execution_count": 22,
   "metadata": {},
   "outputs": [],
   "source": [
    "\n",
    "cursor.execute(\"ALTER TABLE aggregated_transaction_state DROP COLUMN 'to_timestamp';\")\n",
    "conn.commit()"
   ]
  },
  {
   "cell_type": "code",
   "execution_count": 5,
   "metadata": {},
   "outputs": [
    {
     "name": "stdout",
     "output_type": "stream",
     "text": [
      "Tables in the database:\n",
      "aggregated_user_counry\n",
      "map_transaction_hover_state\n",
      "top_transaction_country\n",
      "top_insurence_state\n",
      "aggregated_transaction_state\n",
      "map_user_hover_contry\n",
      "map_insurence_hover_counry\n",
      "agregated_user_state\n",
      "map_user_hover_state\n",
      "map_transaction_hover_counry\n",
      "top_insurence_country\n",
      "agregated_transaction_country\n",
      "top_user_country\n",
      "map_insurence_hover_state\n",
      "agregated_insurence_country\n",
      "aggregated_insurence_country\n",
      "aggregated_insurence_state\n",
      "top_user_state\n",
      "top_transaction_state\n",
      "top_insurance_state\n"
     ]
    }
   ],
   "source": [
    "import sqlite3\n",
    "# Connect to the SQLite database\n",
    "conn = sqlite3.connect('project/test.sqlite')\n",
    "\n",
    "# Create a cursor object to execute SQL queries\n",
    "cursor = conn.cursor()\n",
    "\n",
    "# Execute the SQL query to get the list of tables\n",
    "cursor.execute(\"SELECT name FROM sqlite_master WHERE type='table';\")\n",
    "\n",
    "# Fetch all the table names\n",
    "tables = cursor.fetchall()\n",
    "\n",
    "# Print the list of tables\n",
    "print(\"Tables in the database:\")\n",
    "for table in tables:\n",
    "    print(table[0])\n",
    "\n",
    "# # Close the cursor and connection\n",
    "# cursor.close()\n",
    "# conn.close()\n"
   ]
  }
 ],
 "metadata": {
  "kernelspec": {
   "display_name": ".venv",
   "language": "python",
   "name": "python3"
  },
  "language_info": {
   "codemirror_mode": {
    "name": "ipython",
    "version": 3
   },
   "file_extension": ".py",
   "mimetype": "text/x-python",
   "name": "python",
   "nbconvert_exporter": "python",
   "pygments_lexer": "ipython3",
   "version": "3.11.6"
  }
 },
 "nbformat": 4,
 "nbformat_minor": 2
}
